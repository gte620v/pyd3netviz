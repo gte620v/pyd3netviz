{
 "cells": [
  {
   "cell_type": "code",
   "execution_count": null,
   "metadata": {
    "collapsed": true
   },
   "outputs": [],
   "source": [
    "%load_ext autoreload\n",
    "%autoreload 2"
   ]
  },
  {
   "cell_type": "markdown",
   "metadata": {},
   "source": [
    "# Example with Defaults"
   ]
  },
  {
   "cell_type": "code",
   "execution_count": 31,
   "metadata": {
    "ExecuteTime": {
     "end_time": "2017-01-25T21:05:28.734384",
     "start_time": "2017-01-25T21:05:28.679547"
    },
    "collapsed": false
   },
   "outputs": [
    {
     "data": {
      "text/html": [
       "\n",
       "        <iframe\n",
       "            width=\"900\"\n",
       "            height=\"700\"\n",
       "            src=\"temp.html\"\n",
       "            frameborder=\"0\"\n",
       "            allowfullscreen\n",
       "        ></iframe>\n",
       "        "
      ],
      "text/plain": [
       "<IPython.lib.display.IFrame at 0x107870a50>"
      ]
     },
     "metadata": {},
     "output_type": "display_data"
    }
   ],
   "source": [
    "from networkx import random_geometric_graph, set_node_attributes,betweenness_centrality\n",
    "from pyd3netviz import ForceChart\n",
    "import numpy as np\n",
    "\n",
    "G=random_geometric_graph(100,0.125)\n",
    "\n",
    "fc =ForceChart(G,charge=-100,link_distance=50)\n",
    "fc.to_notebook()"
   ]
  },
  {
   "cell_type": "markdown",
   "metadata": {},
   "source": [
    "# Example with node and link colors modified"
   ]
  },
  {
   "cell_type": "code",
   "execution_count": 32,
   "metadata": {
    "ExecuteTime": {
     "end_time": "2017-01-25T21:07:31.111691",
     "start_time": "2017-01-25T21:07:31.035000"
    },
    "collapsed": false
   },
   "outputs": [
    {
     "data": {
      "text/html": [
       "\n",
       "        <iframe\n",
       "            width=\"900\"\n",
       "            height=\"700\"\n",
       "            src=\"temp.html\"\n",
       "            frameborder=\"0\"\n",
       "            allowfullscreen\n",
       "        ></iframe>\n",
       "        "
      ],
      "text/plain": [
       "<IPython.lib.display.IFrame at 0x107870d90>"
      ]
     },
     "metadata": {},
     "output_type": "display_data"
    }
   ],
   "source": [
    "from networkx import random_geometric_graph, set_node_attributes,betweenness_centrality\n",
    "from pyd3netviz import ForceChart\n",
    "import numpy as np\n",
    "\n",
    "G=random_geometric_graph(100,0.125)\n",
    "\n",
    "\n",
    "for u, v in G.edges():\n",
    "    G[u][v]['link_color']  = '#{}{}{}'.format(np.random.randint(1,9),\n",
    "                                              np.random.randint(1,5),\n",
    "                                              np.random.randint(5,9))\n",
    "set_node_attributes(G, 'node_color', '#090')\n",
    "bb = betweenness_centrality(G)\n",
    "\n",
    "set_node_attributes(G, 'node_size', {k:50*np.sqrt(v) for k,v in bb.items()})\n",
    "fc =ForceChart(G,charge=-100,link_distance=50, link_color_field='link_color',\n",
    "              node_color_field='node_color', node_radius_field='node_size')\n",
    "fc.to_notebook()"
   ]
  },
  {
   "cell_type": "code",
   "execution_count": null,
   "metadata": {
    "collapsed": true
   },
   "outputs": [],
   "source": []
  }
 ],
 "metadata": {
  "anaconda-cloud": {},
  "hide_input": false,
  "kernelspec": {
   "display_name": "Python [Root]",
   "language": "python",
   "name": "Python [Root]"
  },
  "language_info": {
   "codemirror_mode": {
    "name": "ipython",
    "version": 2
   },
   "file_extension": ".py",
   "mimetype": "text/x-python",
   "name": "python",
   "nbconvert_exporter": "python",
   "pygments_lexer": "ipython2",
   "version": "2.7.9"
  },
  "latex_envs": {
   "bibliofile": "biblio.bib",
   "cite_by": "apalike",
   "current_citInitial": 1,
   "eqLabelWithNumbers": true,
   "eqNumInitial": 0
  },
  "nav_menu": {},
  "toc": {
   "navigate_menu": true,
   "number_sections": true,
   "sideBar": true,
   "threshold": 6,
   "toc_cell": false,
   "toc_section_display": "block",
   "toc_window_display": false
  }
 },
 "nbformat": 4,
 "nbformat_minor": 0
}
